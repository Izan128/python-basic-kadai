{
  "nbformat": 4,
  "nbformat_minor": 0,
  "metadata": {
    "colab": {
      "provenance": []
    },
    "kernelspec": {
      "name": "python3",
      "display_name": "Python 3"
    },
    "language_info": {
      "name": "python"
    }
  },
  "cells": [
    {
      "cell_type": "code",
      "source": [
        "\n",
        "def calculate_total(goods, tax):\n",
        "  total = goods + goods * tax / 100\n",
        "  return total\n",
        "\n",
        "print(f\"{calculate_total( 1200 , 10 )}円です\")"
      ],
      "metadata": {
        "colab": {
          "base_uri": "https://localhost:8080/"
        },
        "id": "KiG0UsVkrXEP",
        "outputId": "2b14f793-8454-4f55-aa4d-2ce120b29b0f"
      },
      "execution_count": 25,
      "outputs": [
        {
          "output_type": "stream",
          "name": "stdout",
          "text": [
            "1320.0円です\n"
          ]
        }
      ]
    }
  ]
}