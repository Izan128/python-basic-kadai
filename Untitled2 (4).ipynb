{
  "nbformat": 4,
  "nbformat_minor": 0,
  "metadata": {
    "colab": {
      "provenance": []
    },
    "kernelspec": {
      "name": "python3",
      "display_name": "Python 3"
    },
    "language_info": {
      "name": "python"
    }
  },
  "cells": [
    {
      "cell_type": "code",
      "source": [
        "def calculate_total(goods, tax):\n",
        "  total = goods + goods * tax / 100\n",
        "  return total\n",
        "  print(total)\n",
        "\n",
        "calculate_total(1200, 10)\n"
      ],
      "metadata": {
        "colab": {
          "base_uri": "https://localhost:8080/"
        },
        "id": "N8CzQv1AkoCn",
        "outputId": "c49f6f39-5f4b-4cd4-df8e-40dc1fcc784f"
      },
      "execution_count": 16,
      "outputs": [
        {
          "output_type": "execute_result",
          "data": {
            "text/plain": [
              "1320.0"
            ]
          },
          "metadata": {},
          "execution_count": 16
        }
      ]
    }
  ]
}