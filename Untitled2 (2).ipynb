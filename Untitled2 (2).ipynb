{
  "nbformat": 4,
  "nbformat_minor": 0,
  "metadata": {
    "colab": {
      "provenance": []
    },
    "kernelspec": {
      "name": "python3",
      "display_name": "Python 3"
    },
    "language_info": {
      "name": "python"
    }
  },
  "cells": [
    {
      "cell_type": "code",
      "source": [
        "def calculate_total(goods, tax):\n",
        "  total = goods + goods * tax / 100\n",
        "  print(total)\n",
        "\n",
        "calculate_total(1200, 10)\n"
      ],
      "metadata": {
        "colab": {
          "base_uri": "https://localhost:8080/"
        },
        "id": "N8CzQv1AkoCn",
        "outputId": "a18b0856-f684-42ed-a80d-bfa4b9af46f3"
      },
      "execution_count": 13,
      "outputs": [
        {
          "output_type": "stream",
          "name": "stdout",
          "text": [
            "1320.0\n"
          ]
        }
      ]
    }
  ]
}