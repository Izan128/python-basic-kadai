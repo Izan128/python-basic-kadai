{
  "nbformat": 4,
  "nbformat_minor": 0,
  "metadata": {
    "colab": {
      "provenance": []
    },
    "kernelspec": {
      "name": "python3",
      "display_name": "Python 3"
    },
    "language_info": {
      "name": "python"
    }
  },
  "cells": [
    {
      "cell_type": "code",
      "source": [
        "class Human:\n",
        "  def __init__(self, name, age):\n",
        "    self.name = name\n",
        "    self.age = age\n",
        "\n",
        "  def check_adult(self):\n",
        "      if  int(human.age) < 20:\n",
        "        print(\"大人ではありません\")\n",
        "\n",
        "      else:\n",
        "        print(\"大人です\")\n",
        "\n",
        "member_lists = {\"侍太郎\":16, \"侍次郎\":20, \"侍\":25}\n",
        "for name, age in member_lists.items():\n",
        "  human = Human(name,age)\n",
        "  human.check_adult()"
      ],
      "metadata": {
        "colab": {
          "base_uri": "https://localhost:8080/"
        },
        "id": "HtgRfqbqKGH-",
        "outputId": "928bee05-3506-4719-c38e-122688d48895"
      },
      "execution_count": 82,
      "outputs": [
        {
          "output_type": "stream",
          "name": "stdout",
          "text": [
            "大人ではありません\n",
            "大人です\n",
            "大人です\n"
          ]
        }
      ]
    }
  ]
}