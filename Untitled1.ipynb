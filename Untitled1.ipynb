{
  "nbformat": 4,
  "nbformat_minor": 0,
  "metadata": {
    "colab": {
      "provenance": []
    },
    "kernelspec": {
      "name": "python3",
      "display_name": "Python 3"
    },
    "language_info": {
      "name": "python"
    }
  },
  "cells": [
    {
      "cell_type": "code",
      "execution_count": 4,
      "metadata": {
        "colab": {
          "base_uri": "https://localhost:8080/"
        },
        "id": "3bCzTrp82-ce",
        "outputId": "0bf83d9a-2795-47bc-c4ec-aee0cf53fb14"
      },
      "outputs": [
        {
          "output_type": "stream",
          "name": "stdout",
          "text": [
            "75.0cm²\n"
          ]
        }
      ],
      "source": [
        "border_top = 10\n",
        "border_bottom = 20\n",
        "height = 5\n",
        "\n",
        "area = (border_top + border_bottom) * 5 / 2\n",
        "print(f\"{area}cm²\")"
      ]
    }
  ]
}