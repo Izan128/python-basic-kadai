{
  "nbformat": 4,
  "nbformat_minor": 0,
  "metadata": {
    "colab": {
      "provenance": []
    },
    "kernelspec": {
      "name": "python3",
      "display_name": "Python 3"
    },
    "language_info": {
      "name": "python"
    }
  },
  "cells": [
    {
      "cell_type": "code",
      "execution_count": 9,
      "metadata": {
        "colab": {
          "base_uri": "https://localhost:8080/"
        },
        "id": "3bCzTrp82-ce",
        "outputId": "1a219322-54ba-474f-806f-15c524f67c43"
      },
      "outputs": [
        {
          "output_type": "stream",
          "name": "stdout",
          "text": [
            "45\n",
            "FizzBuzz\n"
          ]
        }
      ],
      "source": [
        "var = input()\n",
        "if int(var)%15 == 0:\n",
        "  print(\"FizzBuzz\")\n",
        "\n",
        "elif int(var)%3 == 0 and int(var)%15 != 0:\n",
        "  print(\"Fizz\")\n",
        "\n",
        "elif int(var)%5 == 0 and int(var)%15 != 0:\n",
        "  print(\"Buzz\")\n",
        "\n",
        "else:\n",
        "  print(int(var))"
      ]
    }
  ]
}